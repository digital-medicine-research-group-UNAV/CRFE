{
 "cells": [
  {
   "cell_type": "code",
   "execution_count": 2,
   "metadata": {},
   "outputs": [],
   "source": [
    "import numpy as np\n",
    "import scipy as sp\n",
    "import pandas as pd\n",
    "import os"
   ]
  },
  {
   "cell_type": "code",
   "execution_count": 3,
   "metadata": {},
   "outputs": [],
   "source": [
    "def crea_dataset(lista,stop):\n",
    "\n",
    "    dataset = []\n",
    "    for sublista in lista:\n",
    "\n",
    "        pre_number = \"\"\n",
    "        b = []\n",
    "        i = 0\n",
    "        lon = len(sublista)\n",
    "        for ele in sublista:\n",
    "\n",
    "            if ele != \" \":\n",
    "                \n",
    "                pre_number = pre_number + ele\n",
    "               \n",
    "            else: \n",
    "                \n",
    "                b.append(float(pre_number))\n",
    "                pre_number = \"\"\n",
    "\n",
    "            \n",
    "            if pre_number == 'name':\n",
    "                \n",
    "                b.append(pre_number)\n",
    "                pre_number = \"\"\n",
    "            \n",
    "            elif i == lon-1:\n",
    "                \n",
    "                b.append(float(pre_number))\n",
    "                pre_number = \"\"\n",
    "\n",
    "            else:\n",
    "                pass\n",
    "\n",
    "           \n",
    "            i = i + 1\n",
    "\n",
    "        \n",
    "                    \n",
    "        dataset.append(b)\n",
    "\n",
    "    data_fattened = [subele for ele in dataset for subele in ele ]\n",
    "\n",
    "    dataset = []\n",
    "    aux = []\n",
    "    for ele in data_fattened:\n",
    "        \n",
    "        if ele != stop:\n",
    "            aux.append(ele)\n",
    "        else:\n",
    "            aux.append(ele)\n",
    "            dataset.append(aux)\n",
    "            \n",
    "            aux = []\n",
    "\n",
    "    return dataset\n",
    "\n",
    "def checker(data):\n",
    "\n",
    "    size_old = len(data[0])\n",
    "    for i in range(1,len(data)):\n",
    "\n",
    "        size_new = len(data[i])\n",
    "\n",
    "        if size_old == size_new:\n",
    "            status = \"correct\"\n",
    "            size_old = size_new\n",
    "        else:\n",
    "            print(i)\n",
    "            status =\"wrong\"\n",
    "\n",
    "    return status\n",
    "\n",
    "\n"
   ]
  },
  {
   "cell_type": "code",
   "execution_count": 10,
   "metadata": {},
   "outputs": [
    {
     "name": "stdout",
     "output_type": "stream",
     "text": [
      "correct correct correct correct correct\n"
     ]
    },
    {
     "ename": "PermissionError",
     "evalue": "[Errno 13] Permission denied: 'C:\\\\Users\\\\Marcos\\\\Desktop\\\\Year1\\\\Heart Disease Data Set\\\\data.csv'",
     "output_type": "error",
     "traceback": [
      "\u001b[1;31m---------------------------------------------------------------------------\u001b[0m",
      "\u001b[1;31mPermissionError\u001b[0m                           Traceback (most recent call last)",
      "Cell \u001b[1;32mIn[10], line 34\u001b[0m\n\u001b[0;32m     32\u001b[0m \u001b[39mif\u001b[39;00m checker(data) \u001b[39m==\u001b[39m \u001b[39m\"\u001b[39m\u001b[39mcorrect\u001b[39m\u001b[39m\"\u001b[39m:\n\u001b[0;32m     33\u001b[0m     df \u001b[39m=\u001b[39m pd\u001b[39m.\u001b[39mDataFrame\u001b[39m.\u001b[39mfrom_records(data)\n\u001b[1;32m---> 34\u001b[0m     df\u001b[39m.\u001b[39;49mto_csv(\u001b[39mr\u001b[39;49m\u001b[39m'\u001b[39;49m\u001b[39mC:\u001b[39;49m\u001b[39m\\\u001b[39;49m\u001b[39mUsers\u001b[39;49m\u001b[39m\\\u001b[39;49m\u001b[39mMarcos\u001b[39;49m\u001b[39m\\\u001b[39;49m\u001b[39mDesktop\u001b[39;49m\u001b[39m\\\u001b[39;49m\u001b[39mYear1\u001b[39;49m\u001b[39m\\\u001b[39;49m\u001b[39mHeart Disease Data Set\u001b[39;49m\u001b[39m\\\u001b[39;49m\u001b[39mdata.csv\u001b[39;49m\u001b[39m'\u001b[39;49m, index\u001b[39m=\u001b[39;49m\u001b[39mFalse\u001b[39;49;00m)\n\u001b[0;32m     36\u001b[0m X \u001b[39m=\u001b[39m data\n\u001b[0;32m     37\u001b[0m list_of_index \u001b[39m=\u001b[39m np\u001b[39m.\u001b[39marange(\u001b[39mlen\u001b[39m(X[\u001b[39m0\u001b[39m]))\u001b[39m.\u001b[39mtolist() \u001b[39m# Empieza en 0   # Array must be a list\u001b[39;00m\n",
      "File \u001b[1;32mc:\\Users\\Marcos\\anaconda3\\envs\\conformals\\lib\\site-packages\\pandas\\util\\_decorators.py:211\u001b[0m, in \u001b[0;36mdeprecate_kwarg.<locals>._deprecate_kwarg.<locals>.wrapper\u001b[1;34m(*args, **kwargs)\u001b[0m\n\u001b[0;32m    209\u001b[0m     \u001b[39melse\u001b[39;00m:\n\u001b[0;32m    210\u001b[0m         kwargs[new_arg_name] \u001b[39m=\u001b[39m new_arg_value\n\u001b[1;32m--> 211\u001b[0m \u001b[39mreturn\u001b[39;00m func(\u001b[39m*\u001b[39margs, \u001b[39m*\u001b[39m\u001b[39m*\u001b[39mkwargs)\n",
      "File \u001b[1;32mc:\\Users\\Marcos\\anaconda3\\envs\\conformals\\lib\\site-packages\\pandas\\core\\generic.py:3720\u001b[0m, in \u001b[0;36mNDFrame.to_csv\u001b[1;34m(self, path_or_buf, sep, na_rep, float_format, columns, header, index, index_label, mode, encoding, compression, quoting, quotechar, lineterminator, chunksize, date_format, doublequote, escapechar, decimal, errors, storage_options)\u001b[0m\n\u001b[0;32m   3709\u001b[0m df \u001b[39m=\u001b[39m \u001b[39mself\u001b[39m \u001b[39mif\u001b[39;00m \u001b[39misinstance\u001b[39m(\u001b[39mself\u001b[39m, ABCDataFrame) \u001b[39melse\u001b[39;00m \u001b[39mself\u001b[39m\u001b[39m.\u001b[39mto_frame()\n\u001b[0;32m   3711\u001b[0m formatter \u001b[39m=\u001b[39m DataFrameFormatter(\n\u001b[0;32m   3712\u001b[0m     frame\u001b[39m=\u001b[39mdf,\n\u001b[0;32m   3713\u001b[0m     header\u001b[39m=\u001b[39mheader,\n\u001b[1;32m   (...)\u001b[0m\n\u001b[0;32m   3717\u001b[0m     decimal\u001b[39m=\u001b[39mdecimal,\n\u001b[0;32m   3718\u001b[0m )\n\u001b[1;32m-> 3720\u001b[0m \u001b[39mreturn\u001b[39;00m DataFrameRenderer(formatter)\u001b[39m.\u001b[39;49mto_csv(\n\u001b[0;32m   3721\u001b[0m     path_or_buf,\n\u001b[0;32m   3722\u001b[0m     lineterminator\u001b[39m=\u001b[39;49mlineterminator,\n\u001b[0;32m   3723\u001b[0m     sep\u001b[39m=\u001b[39;49msep,\n\u001b[0;32m   3724\u001b[0m     encoding\u001b[39m=\u001b[39;49mencoding,\n\u001b[0;32m   3725\u001b[0m     errors\u001b[39m=\u001b[39;49merrors,\n\u001b[0;32m   3726\u001b[0m     compression\u001b[39m=\u001b[39;49mcompression,\n\u001b[0;32m   3727\u001b[0m     quoting\u001b[39m=\u001b[39;49mquoting,\n\u001b[0;32m   3728\u001b[0m     columns\u001b[39m=\u001b[39;49mcolumns,\n\u001b[0;32m   3729\u001b[0m     index_label\u001b[39m=\u001b[39;49mindex_label,\n\u001b[0;32m   3730\u001b[0m     mode\u001b[39m=\u001b[39;49mmode,\n\u001b[0;32m   3731\u001b[0m     chunksize\u001b[39m=\u001b[39;49mchunksize,\n\u001b[0;32m   3732\u001b[0m     quotechar\u001b[39m=\u001b[39;49mquotechar,\n\u001b[0;32m   3733\u001b[0m     date_format\u001b[39m=\u001b[39;49mdate_format,\n\u001b[0;32m   3734\u001b[0m     doublequote\u001b[39m=\u001b[39;49mdoublequote,\n\u001b[0;32m   3735\u001b[0m     escapechar\u001b[39m=\u001b[39;49mescapechar,\n\u001b[0;32m   3736\u001b[0m     storage_options\u001b[39m=\u001b[39;49mstorage_options,\n\u001b[0;32m   3737\u001b[0m )\n",
      "File \u001b[1;32mc:\\Users\\Marcos\\anaconda3\\envs\\conformals\\lib\\site-packages\\pandas\\util\\_decorators.py:211\u001b[0m, in \u001b[0;36mdeprecate_kwarg.<locals>._deprecate_kwarg.<locals>.wrapper\u001b[1;34m(*args, **kwargs)\u001b[0m\n\u001b[0;32m    209\u001b[0m     \u001b[39melse\u001b[39;00m:\n\u001b[0;32m    210\u001b[0m         kwargs[new_arg_name] \u001b[39m=\u001b[39m new_arg_value\n\u001b[1;32m--> 211\u001b[0m \u001b[39mreturn\u001b[39;00m func(\u001b[39m*\u001b[39margs, \u001b[39m*\u001b[39m\u001b[39m*\u001b[39mkwargs)\n",
      "File \u001b[1;32mc:\\Users\\Marcos\\anaconda3\\envs\\conformals\\lib\\site-packages\\pandas\\io\\formats\\format.py:1189\u001b[0m, in \u001b[0;36mDataFrameRenderer.to_csv\u001b[1;34m(self, path_or_buf, encoding, sep, columns, index_label, mode, compression, quoting, quotechar, lineterminator, chunksize, date_format, doublequote, escapechar, errors, storage_options)\u001b[0m\n\u001b[0;32m   1168\u001b[0m     created_buffer \u001b[39m=\u001b[39m \u001b[39mFalse\u001b[39;00m\n\u001b[0;32m   1170\u001b[0m csv_formatter \u001b[39m=\u001b[39m CSVFormatter(\n\u001b[0;32m   1171\u001b[0m     path_or_buf\u001b[39m=\u001b[39mpath_or_buf,\n\u001b[0;32m   1172\u001b[0m     lineterminator\u001b[39m=\u001b[39mlineterminator,\n\u001b[1;32m   (...)\u001b[0m\n\u001b[0;32m   1187\u001b[0m     formatter\u001b[39m=\u001b[39m\u001b[39mself\u001b[39m\u001b[39m.\u001b[39mfmt,\n\u001b[0;32m   1188\u001b[0m )\n\u001b[1;32m-> 1189\u001b[0m csv_formatter\u001b[39m.\u001b[39;49msave()\n\u001b[0;32m   1191\u001b[0m \u001b[39mif\u001b[39;00m created_buffer:\n\u001b[0;32m   1192\u001b[0m     \u001b[39massert\u001b[39;00m \u001b[39misinstance\u001b[39m(path_or_buf, StringIO)\n",
      "File \u001b[1;32mc:\\Users\\Marcos\\anaconda3\\envs\\conformals\\lib\\site-packages\\pandas\\io\\formats\\csvs.py:241\u001b[0m, in \u001b[0;36mCSVFormatter.save\u001b[1;34m(self)\u001b[0m\n\u001b[0;32m    237\u001b[0m \u001b[39m\u001b[39m\u001b[39m\"\"\"\u001b[39;00m\n\u001b[0;32m    238\u001b[0m \u001b[39mCreate the writer & save.\u001b[39;00m\n\u001b[0;32m    239\u001b[0m \u001b[39m\"\"\"\u001b[39;00m\n\u001b[0;32m    240\u001b[0m \u001b[39m# apply compression and byte/text conversion\u001b[39;00m\n\u001b[1;32m--> 241\u001b[0m \u001b[39mwith\u001b[39;00m get_handle(\n\u001b[0;32m    242\u001b[0m     \u001b[39mself\u001b[39;49m\u001b[39m.\u001b[39;49mfilepath_or_buffer,\n\u001b[0;32m    243\u001b[0m     \u001b[39mself\u001b[39;49m\u001b[39m.\u001b[39;49mmode,\n\u001b[0;32m    244\u001b[0m     encoding\u001b[39m=\u001b[39;49m\u001b[39mself\u001b[39;49m\u001b[39m.\u001b[39;49mencoding,\n\u001b[0;32m    245\u001b[0m     errors\u001b[39m=\u001b[39;49m\u001b[39mself\u001b[39;49m\u001b[39m.\u001b[39;49merrors,\n\u001b[0;32m    246\u001b[0m     compression\u001b[39m=\u001b[39;49m\u001b[39mself\u001b[39;49m\u001b[39m.\u001b[39;49mcompression,\n\u001b[0;32m    247\u001b[0m     storage_options\u001b[39m=\u001b[39;49m\u001b[39mself\u001b[39;49m\u001b[39m.\u001b[39;49mstorage_options,\n\u001b[0;32m    248\u001b[0m ) \u001b[39mas\u001b[39;00m handles:\n\u001b[0;32m    249\u001b[0m \n\u001b[0;32m    250\u001b[0m     \u001b[39m# Note: self.encoding is irrelevant here\u001b[39;00m\n\u001b[0;32m    251\u001b[0m     \u001b[39mself\u001b[39m\u001b[39m.\u001b[39mwriter \u001b[39m=\u001b[39m csvlib\u001b[39m.\u001b[39mwriter(\n\u001b[0;32m    252\u001b[0m         handles\u001b[39m.\u001b[39mhandle,\n\u001b[0;32m    253\u001b[0m         lineterminator\u001b[39m=\u001b[39m\u001b[39mself\u001b[39m\u001b[39m.\u001b[39mlineterminator,\n\u001b[1;32m   (...)\u001b[0m\n\u001b[0;32m    258\u001b[0m         quotechar\u001b[39m=\u001b[39m\u001b[39mself\u001b[39m\u001b[39m.\u001b[39mquotechar,\n\u001b[0;32m    259\u001b[0m     )\n\u001b[0;32m    261\u001b[0m     \u001b[39mself\u001b[39m\u001b[39m.\u001b[39m_save()\n",
      "File \u001b[1;32mc:\\Users\\Marcos\\anaconda3\\envs\\conformals\\lib\\site-packages\\pandas\\io\\common.py:856\u001b[0m, in \u001b[0;36mget_handle\u001b[1;34m(path_or_buf, mode, encoding, compression, memory_map, is_text, errors, storage_options)\u001b[0m\n\u001b[0;32m    851\u001b[0m \u001b[39melif\u001b[39;00m \u001b[39misinstance\u001b[39m(handle, \u001b[39mstr\u001b[39m):\n\u001b[0;32m    852\u001b[0m     \u001b[39m# Check whether the filename is to be opened in binary mode.\u001b[39;00m\n\u001b[0;32m    853\u001b[0m     \u001b[39m# Binary mode does not support 'encoding' and 'newline'.\u001b[39;00m\n\u001b[0;32m    854\u001b[0m     \u001b[39mif\u001b[39;00m ioargs\u001b[39m.\u001b[39mencoding \u001b[39mand\u001b[39;00m \u001b[39m\"\u001b[39m\u001b[39mb\u001b[39m\u001b[39m\"\u001b[39m \u001b[39mnot\u001b[39;00m \u001b[39min\u001b[39;00m ioargs\u001b[39m.\u001b[39mmode:\n\u001b[0;32m    855\u001b[0m         \u001b[39m# Encoding\u001b[39;00m\n\u001b[1;32m--> 856\u001b[0m         handle \u001b[39m=\u001b[39m \u001b[39mopen\u001b[39;49m(\n\u001b[0;32m    857\u001b[0m             handle,\n\u001b[0;32m    858\u001b[0m             ioargs\u001b[39m.\u001b[39;49mmode,\n\u001b[0;32m    859\u001b[0m             encoding\u001b[39m=\u001b[39;49mioargs\u001b[39m.\u001b[39;49mencoding,\n\u001b[0;32m    860\u001b[0m             errors\u001b[39m=\u001b[39;49merrors,\n\u001b[0;32m    861\u001b[0m             newline\u001b[39m=\u001b[39;49m\u001b[39m\"\u001b[39;49m\u001b[39m\"\u001b[39;49m,\n\u001b[0;32m    862\u001b[0m         )\n\u001b[0;32m    863\u001b[0m     \u001b[39melse\u001b[39;00m:\n\u001b[0;32m    864\u001b[0m         \u001b[39m# Binary mode\u001b[39;00m\n\u001b[0;32m    865\u001b[0m         handle \u001b[39m=\u001b[39m \u001b[39mopen\u001b[39m(handle, ioargs\u001b[39m.\u001b[39mmode)\n",
      "\u001b[1;31mPermissionError\u001b[0m: [Errno 13] Permission denied: 'C:\\\\Users\\\\Marcos\\\\Desktop\\\\Year1\\\\Heart Disease Data Set\\\\data.csv'"
     ]
    }
   ],
   "source": [
    "with open(r'C:\\Users\\Marcos\\Desktop\\Year1\\Heart Disease Data Set\\hungarian.data') as f:\n",
    "    Hungrarian = f.read().splitlines()\n",
    "\n",
    "with open(r'C:\\Users\\Marcos\\Desktop\\Year1\\Heart Disease Data Set\\switzerland.data') as f:\n",
    "    Switzerland = f.read().splitlines()\n",
    "\n",
    "with open(r'C:\\Users\\Marcos\\Desktop\\Year1\\Heart Disease Data Set\\long-beach-va.data') as f:\n",
    "    Long_beach_va = f.read().splitlines()\n",
    "\n",
    "with open(r'C:\\Users\\Marcos\\Desktop\\Year1\\Heart Disease Data Set\\cleveland_cut.data') as f:\n",
    "    cleveland = f.read().splitlines()\n",
    "    #try:\n",
    "    #    cleveland = f.read().splitlines()\n",
    "    #except UnicodeDecodeError:\n",
    "    #    print(f.read())\n",
    "\n",
    "\n",
    "data_h = crea_dataset( Hungrarian, 'name')\n",
    "data_s = crea_dataset( Switzerland, 'name')\n",
    "data_l = crea_dataset( Long_beach_va, 'name')\n",
    "data_c = crea_dataset( cleveland, 'name')\n",
    "data = data_h + data_s + data_l + data_c\n",
    "\n",
    "print(checker(data_h), checker(data_s), checker(data_l), checker(data_c), checker(data))\n",
    "\n",
    "\n",
    "#3  (age)  #4 (sex)  #9  (cp)  #10 (trestbps)  #12 (chol)  #16 (fbs)  #19 (restecg)   \n",
    "#32 (thalach)  #38 (exang) #40 (oldpeak) #41 (slope) #44 (ca) #51 (thal) \n",
    "informative_attributes = [2, 3, 8, 9, 11, 15, 18, 31, 37, 39, 40] # in python list start in 0 not 1\n",
    "\n",
    "\n",
    "if checker(data) == \"correct\":\n",
    "    df = pd.DataFrame.from_records(data)\n",
    "    df.to_csv(r'C:\\Users\\Marcos\\Desktop\\Year1\\Heart Disease Data Set\\data.csv', index=False)\n",
    "\n",
    "X = data\n",
    "list_of_index = np.arange(len(X[0])).tolist() # Empieza en 0   # Array must be a list\n",
    "Y = [ele.pop(57) for ele in X]\n",
    "list_of_index.remove(57)\n",
    "\n",
    "#df_ = pd.DataFrame.from_records(X) \n",
    "\n",
    "# basic statistics\n",
    "print(\"Mean by columns:\")\n",
    "print(df.mean().tolist()) #string features are avoided\n",
    "print(\"Variance by columns:\")\n",
    "print(df.var().tolist())\n",
    "nans = [np.sum((df[i] == -9.0))/len(df) for i in range(len(df.mean().tolist()))]\n",
    "print(\"Percentage of Nan by columns:\")\n",
    "print(nans)\n",
    "\n",
    "deleted_indexes = [i for i in range(len(nans)) if nans[i] > 0.5]\n",
    "\n",
    "\n",
    "X = np.delete(X, deleted_indexes, axis=1) # delete rows with more than 0.5 of Nan\n",
    "X = np.delete(X, -1, axis=1)              # delete name column\n",
    "\n",
    "[list_of_index.remove(ele) for ele in deleted_indexes]\n",
    "list_of_index.remove(75)\n",
    "\n",
    "print(\"list of index: \")\n",
    "print(list_of_index)\n",
    "print(\"Informative index: \")\n",
    "print(informative_attributes)\n",
    "\n",
    "X = np.array(X, dtype='float').tolist()\n",
    "\n",
    "\n",
    "from sklearn.impute import KNNImputer\n",
    "imputer = KNNImputer(missing_values = -9.0, n_neighbors=2)\n",
    "X = imputer.fit_transform(X)\n",
    "from sklearn.preprocessing import minmax_scale\n",
    "X = minmax_scale(X)\n",
    "\n",
    "\n",
    "np.save(r'C:\\Users\\Marcos\\Desktop\\Year1\\Heart Disease Data Set\\attributes.npy', np.array(X))\n",
    "np.save(r'C:\\Users\\Marcos\\Desktop\\Year1\\Heart Disease Data Set\\target.npy', np.array(Y))\n",
    "np.save(r'C:\\Users\\Marcos\\Desktop\\Year1\\Heart Disease Data Set\\features.npy', np.array(list_of_index))\n",
    "np.save(r'C:\\Users\\Marcos\\Desktop\\Year1\\Heart Disease Data Set\\features.npy', np.array(informative_attributes))\n",
    "\n"
   ]
  },
  {
   "cell_type": "code",
   "execution_count": 285,
   "metadata": {},
   "outputs": [
    {
     "name": "stdout",
     "output_type": "stream",
     "text": [
      "55\n",
      "[0.2505498900219956, 0.0, 0.2448979591836734, 1.0, 1.0, 0.0, 0.0, 0.3333333333333333, 0.7000000000000001, 0.0, 0.47927031509121065, 0.30303030303030304, 0.2916666666666667, 0.0, 0.5, 0.0, 0.9999999999999999, 0.5, 0.5, 0.0, 0.0, 0.0, 0.0, 0.0, 0.7487437185929648, 0.7391304347826086, 0.025252525252525256, 0.7887323943661971, 0.4803921568627451, 0.7435897435897435, 0.8048780487804879, 0.7000000000000001, 0.7166666666666667, 0.0, 0.0, 0.29545454545454547, 0.6666666666666666, 0.7058823529411764, 0.06716417910447761, 0.0, 0.9999999999999999, 0.6333333333333333, 0.9651162790697674, 0.009259259259259259, 0.5, 1.0, 1.0, 1.0, 0.5, 0.5, 0.0, 0.0, 0.0, 0.0, 0.2]\n"
     ]
    }
   ],
   "source": [
    "X_ = np.load(r'C:\\Users\\Marcos\\Desktop\\Year1\\Heart Disease Data Set\\attributes.npy').tolist()\n",
    "print(len(X_[0]))\n",
    "print(X_[0])"
   ]
  },
  {
   "cell_type": "code",
   "execution_count": 277,
   "metadata": {},
   "outputs": [
    {
     "name": "stdout",
     "output_type": "stream",
     "text": [
      "       0    1     2    3    4    5    6    7    8      9   ...   65   66   67  \\\n",
      "0  1254.0  0.0  40.0  1.0  1.0  0.0  0.0 -9.0  2.0  140.0  ... -9.0 -9.0  1.0   \n",
      "1  1255.0  0.0  49.0  0.0  1.0  0.0  0.0 -9.0  3.0  160.0  ... -9.0 -9.0  1.0   \n",
      "2  1256.0  0.0  37.0  1.0  1.0  0.0  0.0 -9.0  2.0  130.0  ... -9.0 -9.0  1.0   \n",
      "3  1257.0  0.0  48.0  0.0  1.0  1.0  1.0 -9.0  4.0  138.0  ...  2.0 -9.0  1.0   \n",
      "4  1258.0  0.0  54.0  1.0  1.0  0.0  1.0 -9.0  3.0  150.0  ...  1.0 -9.0  1.0   \n",
      "\n",
      "    68   69   70   71   72   73    74  \n",
      "0  1.0  1.0  1.0  1.0 -9.0 -9.0  name  \n",
      "1  1.0  1.0  1.0  1.0 -9.0 -9.0  name  \n",
      "2  1.0  1.0  1.0  1.0 -9.0 -9.0  name  \n",
      "3  1.0  1.0  1.0  1.0 -9.0 -9.0  name  \n",
      "4  1.0  1.0  1.0  1.0 -9.0 -9.0  name  \n",
      "\n",
      "[5 rows x 75 columns]\n",
      "[957.2358175750834, 0.0, 53.480533926585096, 0.7908787541713015, -2.1913236929922135, -2.4160177975528363, -2.4048943270300334, -9.0, 3.253615127919911, 122.84093437152391, 0.11790878754171301, 191.82647385984427, -6.565072302558399, 5.982202447163515, 5.439377085650723, -0.7508342602892102, -7.947719688542826, -3.9254727474972193, 0.5817575083426029, 5.091212458286986, 14.022246941045607, 78.5706340378198, -0.6484983314794216, -0.3982202447163515, -0.40378197997775306, -0.47052280311457173, -0.7185761957730812, 31.340378197997776, 7.556062291434928, -1.7120133481646274, 13.50678531701891, 128.34816462736373, 70.22469410456063, 158.9822024471635, 80.54505005561735, 122.84093437152391, 77.45161290322581, -0.1835372636262514, -0.5561735261401557, 0.18976640711902112, -1.9221357063403781, 3.337041156840934, 44.818687430478306, -5.860956618464961, -9.0, -8.989988876529477, -8.703147942157953, -8.665183537263626, -8.978754171301446, -8.948832035595105, -2.4193548387096775, -7.512791991101223, -8.545050055617352, -8.989988876529477, 5.9377085650723025, 15.738598442714126, 82.9098998887653, -1.8342602892102335, -1.3837597330367075, -1.5561735261401557, -5.130144605116796, -1.3948832035595107, -5.264738598442714, -1.8909899888765296, -5.338153503893214, -1.4760845383759733, -1.8832035595105674, 0.8086763070077865, 0.8209121245828699, 0.9187986651835373, 1.3870967741935485, 0.9977753058954394, 3.669399332591769, -7.031701890989988]\n",
      "[1449653.280631041, 0.0, 89.03609058320177, 0.16557372581759802, 21.261795461921118, 20.000455839326477, 20.46616755563598, 0.0, 0.8621110811071937, 1564.9089683910158, 3.5116945083747826, 13482.99435403355, 17.328444621715562, 375.22462721509726, 331.96152121511, 7.703994292098744, 9.385905150736528, 22.93764663038094, 0.8493773086156103, 23.891448305590686, 106.06409249574526, 483.4880453659211, 5.744905871656462, 6.571756294422733, 5.94702354261485, 5.621346162898163, 6.9819596631744485, 2432.716975803343, 31.39056732796406, 61.91609159892985, 903.3023481175591, 1863.6280896120686, 620.7980086758128, 2744.6477897986097, 806.8005851589621, 1564.9089683910158, 623.7445937208095, 5.2947843557924905, 4.946451266069029, 7.349627896375874, 26.390366925883885, 153.7515328836059, 3606.0038374734645, 20.968395965822054, 0.0, 0.090100111234708, 2.744892195237998, 3.287550383871194, 0.202677288053292, 0.46953928021978963, 50.78497018463985, 13.230070035748447, 4.036665337135363, 0.09010011123470778, 14.68876579024952, 83.92379803344961, 104.75022482292923, 51.49477147337643, 20.833633510135765, 21.0333109542652, 24.594402094878763, 20.64678893400539, 23.89197351177114, 21.934651468719302, 23.504678546566485, 21.39447195721079, 21.864962554286098, 2.1548912302954277, 2.2540833541846976, 2.6114390897086013, 5.235289891515136, 2.0712645329753054, 650.1763570998071, 25.780319037981215]\n",
      "[0.0, 0.0, 0.0, 0.0, 0.3136818687430478, 0.3136818687430478, 0.3181312569521691, 1.0, 0.0, 0.06562847608453838, 0.03781979977753059, 0.03337041156840934, 0.7441601779755284, 0.4671857619577308, 0.48053392658509453, 0.10011123470522804, 0.8943270300333704, 0.4694104560622914, 0.002224694104560623, 0.058954393770856504, 0.060066740823136816, 0.058954393770856504, 0.07563959955506118, 0.07341490545050056, 0.07230255839822025, 0.07007786429365963, 0.09121245828698554, 0.12458286985539488, 0.06229143492769744, 0.5038932146829811, 0.1167964404894327, 0.06117908787541713, 0.06229143492769744, 0.07007786429365963, 0.07007786429365963, 0.06562847608453838, 0.06562847608453838, 0.06117908787541713, 0.06451612903225806, 0.06896551724137931, 0.3426028921023359, 0.4727474972191324, 0.15795328142380421, 0.6763070077864294, 1.0, 0.9988876529477196, 0.9688542825361512, 0.9666295884315906, 0.9977753058954394, 0.9944382647385984, 0.5305895439377085, 0.8553948832035595, 0.9510567296996663, 0.9988876529477196, 0.012235817575083427, 0.010011123470522803, 0.010011123470522803, 0.30589543937708563, 0.2625139043381535, 0.27363737486095663, 0.6206896551724138, 0.26140155728587317, 0.6307007786429366, 0.3014460511679644, 0.6362625139043382, 0.2725250278086763, 0.3003337041156841, 0.021134593993325918, 0.021134593993325918, 0.021134593993325918, 0.021134593993325918, 0.017797552836484983, 0.6540600667408232, 0.8676307007786429]\n",
      "74 75\n"
     ]
    },
    {
     "name": "stderr",
     "output_type": "stream",
     "text": [
      "C:\\Users\\Marcos\\AppData\\Local\\Temp\\ipykernel_19536\\3290380271.py:2: FutureWarning: The default value of numeric_only in DataFrame.mean is deprecated. In a future version, it will default to False. In addition, specifying 'numeric_only=None' is deprecated. Select only valid columns or specify the value of numeric_only to silence this warning.\n",
      "  print(df_.mean().tolist())\n",
      "C:\\Users\\Marcos\\AppData\\Local\\Temp\\ipykernel_19536\\3290380271.py:3: FutureWarning: The default value of numeric_only in DataFrame.var is deprecated. In a future version, it will default to False. In addition, specifying 'numeric_only=None' is deprecated. Select only valid columns or specify the value of numeric_only to silence this warning.\n",
      "  print(df_.var().tolist())\n",
      "C:\\Users\\Marcos\\AppData\\Local\\Temp\\ipykernel_19536\\3290380271.py:4: FutureWarning: The default value of numeric_only in DataFrame.mean is deprecated. In a future version, it will default to False. In addition, specifying 'numeric_only=None' is deprecated. Select only valid columns or specify the value of numeric_only to silence this warning.\n",
      "  nans = [np.sum((df_[i] == -9.0))/len(df_) for i in range(len(df_.mean().tolist()))]\n"
     ]
    }
   ],
   "source": [
    "print(df_.head())\n",
    "print(df_.mean().tolist())\n",
    "print(df_.var().tolist())\n",
    "nans = [np.sum((df_[i] == -9.0))/len(df_) for i in range(len(df_.mean().tolist()))]\n",
    "print(nans)\n",
    "\n"
   ]
  },
  {
   "cell_type": "code",
   "execution_count": 306,
   "metadata": {},
   "outputs": [
    {
     "data": {
      "text/plain": [
       "[None, None, None]"
      ]
     },
     "execution_count": 306,
     "metadata": {},
     "output_type": "execute_result"
    }
   ],
   "source": [
    "lista = [0,1,2,3,4,5,6]\n",
    "rem = [0,2,5]\n",
    "\n",
    "[lista.remove(ele) for ele in rem]\n"
   ]
  },
  {
   "cell_type": "code",
   "execution_count": 15,
   "metadata": {},
   "outputs": [
    {
     "data": {
      "text/plain": [
       "True"
      ]
     },
     "execution_count": 15,
     "metadata": {},
     "output_type": "execute_result"
    }
   ],
   "source": [
    "from collections import Counter\n",
    "z = [0,0,1,1,1,1,2]\n",
    "z = Counter(z)\n",
    "list(z.keys()) == [0,1,2]"
   ]
  }
 ],
 "metadata": {
  "kernelspec": {
   "display_name": "conformals",
   "language": "python",
   "name": "python3"
  },
  "language_info": {
   "codemirror_mode": {
    "name": "ipython",
    "version": 3
   },
   "file_extension": ".py",
   "mimetype": "text/x-python",
   "name": "python",
   "nbconvert_exporter": "python",
   "pygments_lexer": "ipython3",
   "version": "3.10.8"
  },
  "orig_nbformat": 4
 },
 "nbformat": 4,
 "nbformat_minor": 2
}
